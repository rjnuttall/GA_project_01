{
 "cells": [
  {
   "cell_type": "markdown",
   "metadata": {},
   "source": [
    "<img src=\"http://imgur.com/1ZcRyrc.png\" style=\"float: left; margin: 20px; height: 15px\">\n",
    "\n",
    "# Project 1: Python Coding Exercises\n",
    "\n",
    "\n",
    "\n",
    "---"
   ]
  },
  {
   "cell_type": "markdown",
   "metadata": {},
   "source": [
    "The following code challenges are drawn from common exercises used in technical interviews.\n",
    "\n",
    "Please note that there may be several ways to approach each challenge. If you get stuck, try mapping out your approach in pseudocode first. Finally, while solutions to problems like these may be found online, remember that if you copy/paste code that you can't explain, you'll be missing out on the point of the project. The only way to truly learn a new skill is through practice, trial, and error - we can only help you improve by understanding where you are having trouble."
   ]
  },
  {
   "cell_type": "markdown",
   "metadata": {},
   "source": [
    "### Challenge 1: Largest Palindrome\n",
    "A palindromic number reads the same both ways. For example, 1234321 is a palindrome. The largest palindrome made from the product of two two-digit numbers is 9009 = 91 × 99. Find the largest palindrome made from the product of two three-digit numbers. Afterward, write a brief explanation walking through your code's logic in markdown."
   ]
  },
  {
   "cell_type": "code",
   "execution_count": 10,
   "metadata": {},
   "outputs": [
    {
     "name": "stdout",
     "output_type": "stream",
     "text": [
      "906609 is the largest palimdromic number as a product of two 3-digit numbers, being the product of 993 and 913\n"
     ]
    }
   ],
   "source": [
    "# Initialise variable to be used to contain the largest palindrome \n",
    "max_pal = 0\n",
    "\n",
    "# Nested for loops to start from largest 3-digit number and countdown\n",
    "for number1 in range(999,900,-1):\n",
    "    for number2 in range(999,900,-1):\n",
    "        \n",
    "        #calculate the product of the two 3-digit numbers\n",
    "        product = number1 * number2\n",
    "        \n",
    "        # Convert the product value into a string and also create a reversed copy\n",
    "        num_str = str(product)\n",
    "        rev_num_str = num_str[::-1]\n",
    "        \n",
    "        #Check whether the fwd/rev value strings are the same, i.e. palindromic \n",
    "        if num_str == rev_num_str:\n",
    "            # check whether the current palindrome is the largest found\n",
    "            if product > max_pal:\n",
    "                #store the values of the 3-digit numbers and the product of the largest found\n",
    "                pal_num_1 = number1\n",
    "                pal_num_2 = number2\n",
    "                max_pal = product\n",
    "\n",
    "#Print out msg with values and palindrome\n",
    "print(\"{0} is the largest palimdromic number as a product of two 3-digit numbers, being the product of {1} and {2}\".format(max_pal,pal_num_1,pal_num_2))\n"
   ]
  },
  {
   "cell_type": "markdown",
   "metadata": {},
   "source": [
    "### Explanation:\n",
    "1. It was assumed that the largest palindromic product would occur multiplying numbers in the 900's. As such, the algorithm was arranged to start at the max 999 and work back (i.e. down) from there. The loops were limited to assessing a min value of 900 to reduce computation.\n",
    "2. The algorithm assesses the product of each value between _900-999_.\n",
    "3. The product is converted to a string variable to easily derive the reversed number.\n",
    "4. The product and reversed product string vars are compared.\n",
    "5. If the product is a palindrome, the current product value is checked whether it is the largest found. If larger, the max palindrome variable `max_pal` is updated to the new value. The 3-digit values are also stored for information.\n",
    "6. Outcome is displayed is a user friendly readable text string.\n"
   ]
  },
  {
   "cell_type": "markdown",
   "metadata": {},
   "source": [
    "\n",
    "### Challenge 2: Summation of Primes\n",
    "The sum of the primes below 10 is 2 + 3 + 5 + 7 = 17. Find the sum of all the primes below 2,000. Afterward, write a brief explanation walking through your code's logic in markdown."
   ]
  },
  {
   "cell_type": "code",
   "execution_count": 7,
   "metadata": {},
   "outputs": [
    {
     "name": "stdout",
     "output_type": "stream",
     "text": [
      "277050 is the sum of all primes below 2000\n"
     ]
    }
   ],
   "source": [
    "# Creat input variable with desired assessment value\n",
    "input_value = 2000\n",
    "\n",
    "# Innitialise variable for summation of total primes\n",
    "prime_sum = 0\n",
    "\n",
    "# Loop through all numbers from 2 to the desired assessment value; NB 1 can be ignored to save one iteration\n",
    "for num in range(2,input_value):\n",
    "    # Initialise a flag variable for later use\n",
    "    prime_flag = 0\n",
    "    \n",
    "    # Loop through all numbers below the current number of interest\n",
    "    for i in range(2,num):\n",
    "        \n",
    "        # check whether there are any factors for the current number of interest other than 1 and itself\n",
    "        if num % i == 0:      #number is not prime\n",
    "            \n",
    "            # If true, current number is NOT prime; modify flag variable and break the loop\n",
    "            prime_flag = 1\n",
    "            break\n",
    "    \n",
    "    # if flag variable unchanged, current number is a prime; add to the running summation\n",
    "    if prime_flag == 0:\n",
    "        prime_sum += num\n",
    "        \n",
    "# Print out final total prime sum        \n",
    "print(\"{0} is the sum of all primes below {1}\".format(prime_sum, input_value))"
   ]
  },
  {
   "cell_type": "markdown",
   "metadata": {},
   "source": [
    "### Explanation:\n",
    "1. An initial input value is set as `2000`. Possible drawback of the code is that the input value would need to be manually changed to assess other numbers. The code could easily be modified as a function if mulitple numbers needed to be assessed.\n",
    "2. A running sum total variable `prime_sum` is initialised at `0`.\n",
    "3. A `for loop` is set up to increment up through all numbers from **2** to the input value. Note **1** is skipped as we know it is not a prime - saves on one iteration at least!\n",
    "4. A flag/check variable `prime_flag` is set to `0` for **each** number being assessed. This flag var is used later to identify if the current number is a prime or not.\n",
    "5. Second `for loop` used to iterate through all numbers below the current `num` value being assessed. The loop checks to see if the current number is divisible by any other number below it by using the modulus operator. If the number is divisible by another number, the flag var `prime_flag` is set to `1` and the inner `for loop` is stopped using the `break` command.\n",
    "6. If the flag var is still `0` once the inner `for loop` is complete, the number is a prime and is added to the running sum total `prime_sum`\n",
    "7. The total sum is printed out for the user.\n"
   ]
  },
  {
   "cell_type": "markdown",
   "metadata": {},
   "source": [
    "### Challenge 3: Multiples of 3 and 5\n",
    "If we list all of the natural numbers below 10 that are multiples of 3 or 5, we get 3, 5, 6, and 9. The sum of these multiples is 23. Find the sum of all the multiples of 3 and 5 below 1,000. Afterward, write a brief explanation walking through your code's logic in markdown."
   ]
  },
  {
   "cell_type": "code",
   "execution_count": 8,
   "metadata": {},
   "outputs": [
    {
     "name": "stdout",
     "output_type": "stream",
     "text": [
      "233168 is the sum of all mulitples of 3 and 5 below 1000\n"
     ]
    }
   ],
   "source": [
    "# Creat input variable with desired assessment value\n",
    "input_value = 1000\n",
    "\n",
    "# Innitialise variable for summation of total\n",
    "sum_total = 0\n",
    "\n",
    "# Loop through all numbers from 1 to the desired assessment value\n",
    "for i in range(1,input_value):\n",
    "    # check if the number is a mulitple of 5; if so add the number to the running sum total\n",
    "    if i % 5 == 0:\n",
    "        sum_total += i\n",
    "    # else, check if the number is a mulitple of 3; if so add the number to the running sum total\n",
    "    elif i % 3 == 0:\n",
    "        sum_total += i\n",
    "\n",
    "# Print out the final total of all multiples\n",
    "print(\"{0} is the sum of all mulitples of 3 and 5 below {1}\".format(sum_total, input_value))"
   ]
  },
  {
   "cell_type": "markdown",
   "metadata": {},
   "source": [
    "### Explanation:\n",
    "1. An initial input value is set as `1000`. Possible drawback of the code is that the variable would need to be manually changed to assess other numbers. The code could easily be modified as a function if mulitple numbers needed to be assessed.\n",
    "2. A running sum total variable `sum_total` is initialised at `0`.\n",
    "3. A `for loop` is set up to iterate through all numbers below the input value.\n",
    "4. Each number is checked to whether it is a mulitple of 3 or 5 by checking the remainder from the modulus operation. If the current number is a multiple, its value is added to the running total var `sum_total`.\n",
    "5. Numbers that are multiples of both 3 and 5 do not need to be considered separately, as they will still be captured.\n",
    "6. The final total of all multiples is printed out after the loop.\n"
   ]
  },
  {
   "cell_type": "markdown",
   "metadata": {},
   "source": [
    "### Challenge 4: String Compressor\n",
    "Implement a method to perform basic string compression using the counts of repeated characters. (This is called run-length encoding.) For example, the string \"aabcccccaaa\" would become a2b1c5a3. If the “compressed” string would not become smaller than the original string, your method should return the original string. You can assume the string has only uppercase and lowercase letters (a–z). Specify whether your solution is case sensitive or case insensitive and what you would need to change to make it the other. Afterward, write a brief explanation walking through your code's logic in markdown."
   ]
  },
  {
   "cell_type": "code",
   "execution_count": 3,
   "metadata": {},
   "outputs": [],
   "source": [
    "# define function to process a string supplied by user\n",
    "def run_len_encode(input_str):\n",
    "    \n",
    "    # error check to ensure input is a string variable\n",
    "    if type(input_str) != str:\n",
    "        return 'Input must be a string format'\n",
    "    \n",
    "    # initialise an indexing variable\n",
    "    y=0\n",
    "    \n",
    "    # grab first letter as the first unique letter and add to a new string variable\n",
    "    compressed_str = str(input_str[y])\n",
    "    \n",
    "    # loop through the remainder of the string\n",
    "    for x in range(2,len(input_str)):\n",
    "        \n",
    "        # check whether the current character is different from the previous\n",
    "        if input_str[x] != input_str[x-1]:\n",
    "            compressed_str += str(x - y)           # calculate the count of the previous letter and add to compressed string var\n",
    "            compressed_str += str(input_str[x])    # add new character to the compressed string var\n",
    "            y = x\n",
    "        \n",
    "        # if at the end of the string, calculate the count of the final char and add to string var\n",
    "        elif x == len(input_str)-1:\n",
    "            compressed_str += str(len(input_str) - y)\n",
    "    \n",
    "    # check length of the compressed string vs original and return the shortest.\n",
    "    if len(input_str) > len(compressed_str):\n",
    "        return compressed_str\n",
    "    else:\n",
    "        return input_str"
   ]
  },
  {
   "cell_type": "code",
   "execution_count": 9,
   "metadata": {},
   "outputs": [
    {
     "name": "stdout",
     "output_type": "stream",
     "text": [
      "a2b1c5a3\n",
      "a5B3b2c1X4D2d2A1a3\n",
      "abccba\n",
      "Input must be a string format\n"
     ]
    }
   ],
   "source": [
    "# Check function output\n",
    "print(run_len_encode('aabcccccaaa'))\n",
    "print(run_len_encode('aaaaaBBBbbcXXXXDDddAaaa'))\n",
    "print(run_len_encode('abccba'))\n",
    "print(run_len_encode(1773))"
   ]
  },
  {
   "cell_type": "markdown",
   "metadata": {},
   "source": [
    "### Explanation:\n",
    "1. Code set up as a function that expects a single input string variable.\n",
    "2. An error capture conditional is included to check whether the input is a `str` variable type. If not, the function returns an err msg noting the input requirements.\n",
    "3. A new string var, `compressed_str`, is created and assigned the first character of the input string.\n",
    "4. A `for loop` iterates through the remainder of the string. The logic then works as follows; \n",
    "    - check whether the current character differs from the previous.\n",
    "    - if it is different, calculate the total repititions of the **previous** character and add this to the `compressed_str` var. Then add the current character to the `compressed_var`.\n",
    "    - reset the index variable `y` for calculation of next char count.\n",
    "    - if the current char is the **last** char in the string, calculate the char count and add it to the `compressed_str`\n",
    "5. Once the string is assessed, check whether the compressed version is shorter than the original input, and return which ever is shorter.\n",
    "6. The algorithm is case sensitive and will count upper/lower case characters separately. The code could be modified to convert each character into either upper or lower case using the `.upper()` or `.lower()` methods before comparing the adjacent chars.\n",
    "    "
   ]
  },
  {
   "cell_type": "markdown",
   "metadata": {},
   "source": [
    "### Challenge 5: File Handling\n",
    "\n",
    "##### Part - 1\n",
    "Read the file named 'Diabetes.csv' available in the project folder.\n"
   ]
  },
  {
   "cell_type": "code",
   "execution_count": 2,
   "metadata": {},
   "outputs": [],
   "source": [
    "import pandas as pd\n",
    "\n",
    "# included to ignore warning errors\n",
    "pd.options.mode.chained_assignment = None"
   ]
  },
  {
   "cell_type": "code",
   "execution_count": 3,
   "metadata": {},
   "outputs": [
    {
     "data": {
      "text/html": [
       "<div>\n",
       "<style scoped>\n",
       "    .dataframe tbody tr th:only-of-type {\n",
       "        vertical-align: middle;\n",
       "    }\n",
       "\n",
       "    .dataframe tbody tr th {\n",
       "        vertical-align: top;\n",
       "    }\n",
       "\n",
       "    .dataframe thead th {\n",
       "        text-align: right;\n",
       "    }\n",
       "</style>\n",
       "<table border=\"1\" class=\"dataframe\">\n",
       "  <thead>\n",
       "    <tr style=\"text-align: right;\">\n",
       "      <th></th>\n",
       "      <th>diabetes</th>\n",
       "      <th>times_pregnant</th>\n",
       "      <th>glucose_conc</th>\n",
       "      <th>diastolic_BP</th>\n",
       "      <th>triceps_thk</th>\n",
       "      <th>2_hr_insulin</th>\n",
       "      <th>bmi</th>\n",
       "      <th>pedigree</th>\n",
       "      <th>age</th>\n",
       "      <th>Unnamed: 9</th>\n",
       "      <th>Unnamed: 10</th>\n",
       "      <th>Unnamed: 11</th>\n",
       "      <th>Unnamed: 12</th>\n",
       "      <th>Unnamed: 13</th>\n",
       "      <th>Unnamed: 14</th>\n",
       "    </tr>\n",
       "  </thead>\n",
       "  <tbody>\n",
       "    <tr>\n",
       "      <th>0</th>\n",
       "      <td>0</td>\n",
       "      <td>1</td>\n",
       "      <td>85</td>\n",
       "      <td>66</td>\n",
       "      <td>29</td>\n",
       "      <td>0</td>\n",
       "      <td>26.6</td>\n",
       "      <td>0.351</td>\n",
       "      <td>31</td>\n",
       "      <td>Person2</td>\n",
       "      <td>NaN</td>\n",
       "      <td>NaN</td>\n",
       "      <td>NaN</td>\n",
       "      <td>NaN</td>\n",
       "      <td>NaN</td>\n",
       "    </tr>\n",
       "    <tr>\n",
       "      <th>1</th>\n",
       "      <td>1</td>\n",
       "      <td>8</td>\n",
       "      <td>183</td>\n",
       "      <td>64</td>\n",
       "      <td>0</td>\n",
       "      <td>0</td>\n",
       "      <td>23.3</td>\n",
       "      <td>0.672</td>\n",
       "      <td>32</td>\n",
       "      <td>NaN</td>\n",
       "      <td>NaN</td>\n",
       "      <td>51</td>\n",
       "      <td>NaN</td>\n",
       "      <td>NaN</td>\n",
       "      <td>NaN</td>\n",
       "    </tr>\n",
       "    <tr>\n",
       "      <th>2</th>\n",
       "      <td>0</td>\n",
       "      <td>1</td>\n",
       "      <td>89</td>\n",
       "      <td>66</td>\n",
       "      <td>23</td>\n",
       "      <td>94</td>\n",
       "      <td>28.1</td>\n",
       "      <td>0.167</td>\n",
       "      <td>21</td>\n",
       "      <td>NaN</td>\n",
       "      <td>Target(y/n)</td>\n",
       "      <td>NaN</td>\n",
       "      <td>NaN</td>\n",
       "      <td>NaN</td>\n",
       "      <td>NaN</td>\n",
       "    </tr>\n",
       "    <tr>\n",
       "      <th>3</th>\n",
       "      <td>1</td>\n",
       "      <td>0</td>\n",
       "      <td>137</td>\n",
       "      <td>40</td>\n",
       "      <td>35</td>\n",
       "      <td>168</td>\n",
       "      <td>43.1</td>\n",
       "      <td>2.288</td>\n",
       "      <td>33</td>\n",
       "      <td>NaN</td>\n",
       "      <td>Y</td>\n",
       "      <td>Supervised</td>\n",
       "      <td>Discrete (Y/N</td>\n",
       "      <td>NaN</td>\n",
       "      <td>NaN</td>\n",
       "    </tr>\n",
       "    <tr>\n",
       "      <th>4</th>\n",
       "      <td>0</td>\n",
       "      <td>5</td>\n",
       "      <td>116</td>\n",
       "      <td>74</td>\n",
       "      <td>0</td>\n",
       "      <td>0</td>\n",
       "      <td>25.6</td>\n",
       "      <td>0.201</td>\n",
       "      <td>30</td>\n",
       "      <td>NaN</td>\n",
       "      <td>NaN</td>\n",
       "      <td>NaN</td>\n",
       "      <td>NaN</td>\n",
       "      <td>Y</td>\n",
       "      <td>Classification</td>\n",
       "    </tr>\n",
       "  </tbody>\n",
       "</table>\n",
       "</div>"
      ],
      "text/plain": [
       "   diabetes  times_pregnant  glucose_conc  diastolic_BP  triceps_thk  \\\n",
       "0         0               1            85            66           29   \n",
       "1         1               8           183            64            0   \n",
       "2         0               1            89            66           23   \n",
       "3         1               0           137            40           35   \n",
       "4         0               5           116            74            0   \n",
       "\n",
       "   2_hr_insulin   bmi  pedigree  age Unnamed: 9  Unnamed: 10 Unnamed: 11  \\\n",
       "0             0  26.6     0.351   31    Person2          NaN         NaN   \n",
       "1             0  23.3     0.672   32        NaN          NaN          51   \n",
       "2            94  28.1     0.167   21        NaN  Target(y/n)         NaN   \n",
       "3           168  43.1     2.288   33        NaN            Y  Supervised   \n",
       "4             0  25.6     0.201   30        NaN          NaN         NaN   \n",
       "\n",
       "     Unnamed: 12 Unnamed: 13     Unnamed: 14  \n",
       "0            NaN         NaN             NaN  \n",
       "1            NaN         NaN             NaN  \n",
       "2            NaN         NaN             NaN  \n",
       "3  Discrete (Y/N         NaN             NaN  \n",
       "4            NaN           Y  Classification  "
      ]
     },
     "execution_count": 3,
     "metadata": {},
     "output_type": "execute_result"
    }
   ],
   "source": [
    "# load raw data into dataframe, selecting row 4 as the header - skips the erroneous data at the top of the CSV\n",
    "raw_df = pd.read_csv('./Diabetes.csv', header=4,)\n",
    "raw_df.head()"
   ]
  },
  {
   "cell_type": "code",
   "execution_count": 4,
   "metadata": {},
   "outputs": [
    {
     "data": {
      "text/html": [
       "<div>\n",
       "<style scoped>\n",
       "    .dataframe tbody tr th:only-of-type {\n",
       "        vertical-align: middle;\n",
       "    }\n",
       "\n",
       "    .dataframe tbody tr th {\n",
       "        vertical-align: top;\n",
       "    }\n",
       "\n",
       "    .dataframe thead th {\n",
       "        text-align: right;\n",
       "    }\n",
       "</style>\n",
       "<table border=\"1\" class=\"dataframe\">\n",
       "  <thead>\n",
       "    <tr style=\"text-align: right;\">\n",
       "      <th></th>\n",
       "      <th>diabetes</th>\n",
       "      <th>times_pregnant</th>\n",
       "      <th>glucose_conc</th>\n",
       "      <th>diastolic_BP</th>\n",
       "      <th>triceps_thk</th>\n",
       "      <th>2_hr_insulin</th>\n",
       "      <th>bmi</th>\n",
       "      <th>pedigree</th>\n",
       "      <th>age</th>\n",
       "    </tr>\n",
       "  </thead>\n",
       "  <tbody>\n",
       "    <tr>\n",
       "      <th>0</th>\n",
       "      <td>0</td>\n",
       "      <td>1</td>\n",
       "      <td>85</td>\n",
       "      <td>66</td>\n",
       "      <td>29</td>\n",
       "      <td>0</td>\n",
       "      <td>26.6</td>\n",
       "      <td>0.351</td>\n",
       "      <td>31</td>\n",
       "    </tr>\n",
       "    <tr>\n",
       "      <th>1</th>\n",
       "      <td>1</td>\n",
       "      <td>8</td>\n",
       "      <td>183</td>\n",
       "      <td>64</td>\n",
       "      <td>0</td>\n",
       "      <td>0</td>\n",
       "      <td>23.3</td>\n",
       "      <td>0.672</td>\n",
       "      <td>32</td>\n",
       "    </tr>\n",
       "    <tr>\n",
       "      <th>2</th>\n",
       "      <td>0</td>\n",
       "      <td>1</td>\n",
       "      <td>89</td>\n",
       "      <td>66</td>\n",
       "      <td>23</td>\n",
       "      <td>94</td>\n",
       "      <td>28.1</td>\n",
       "      <td>0.167</td>\n",
       "      <td>21</td>\n",
       "    </tr>\n",
       "    <tr>\n",
       "      <th>3</th>\n",
       "      <td>1</td>\n",
       "      <td>0</td>\n",
       "      <td>137</td>\n",
       "      <td>40</td>\n",
       "      <td>35</td>\n",
       "      <td>168</td>\n",
       "      <td>43.1</td>\n",
       "      <td>2.288</td>\n",
       "      <td>33</td>\n",
       "    </tr>\n",
       "    <tr>\n",
       "      <th>4</th>\n",
       "      <td>0</td>\n",
       "      <td>5</td>\n",
       "      <td>116</td>\n",
       "      <td>74</td>\n",
       "      <td>0</td>\n",
       "      <td>0</td>\n",
       "      <td>25.6</td>\n",
       "      <td>0.201</td>\n",
       "      <td>30</td>\n",
       "    </tr>\n",
       "  </tbody>\n",
       "</table>\n",
       "</div>"
      ],
      "text/plain": [
       "   diabetes  times_pregnant  glucose_conc  diastolic_BP  triceps_thk  \\\n",
       "0         0               1            85            66           29   \n",
       "1         1               8           183            64            0   \n",
       "2         0               1            89            66           23   \n",
       "3         1               0           137            40           35   \n",
       "4         0               5           116            74            0   \n",
       "\n",
       "   2_hr_insulin   bmi  pedigree  age  \n",
       "0             0  26.6     0.351   31  \n",
       "1             0  23.3     0.672   32  \n",
       "2            94  28.1     0.167   21  \n",
       "3           168  43.1     2.288   33  \n",
       "4             0  25.6     0.201   30  "
      ]
     },
     "execution_count": 4,
     "metadata": {},
     "output_type": "execute_result"
    }
   ],
   "source": [
    "# slice the raw data to eliminate erroneous columns to the right of the CSV\n",
    "df = raw_df.iloc[:,:9]\n",
    "df.head()"
   ]
  },
  {
   "cell_type": "code",
   "execution_count": 5,
   "metadata": {},
   "outputs": [
    {
     "data": {
      "text/html": [
       "<div>\n",
       "<style scoped>\n",
       "    .dataframe tbody tr th:only-of-type {\n",
       "        vertical-align: middle;\n",
       "    }\n",
       "\n",
       "    .dataframe tbody tr th {\n",
       "        vertical-align: top;\n",
       "    }\n",
       "\n",
       "    .dataframe thead th {\n",
       "        text-align: right;\n",
       "    }\n",
       "</style>\n",
       "<table border=\"1\" class=\"dataframe\">\n",
       "  <thead>\n",
       "    <tr style=\"text-align: right;\">\n",
       "      <th></th>\n",
       "      <th>diabetes</th>\n",
       "      <th>times_pregnant</th>\n",
       "      <th>glucose_conc</th>\n",
       "      <th>diastolic_BP</th>\n",
       "      <th>triceps_thk</th>\n",
       "      <th>2_hr_insulin</th>\n",
       "      <th>bmi</th>\n",
       "      <th>pedigree</th>\n",
       "      <th>age</th>\n",
       "    </tr>\n",
       "  </thead>\n",
       "  <tbody>\n",
       "    <tr>\n",
       "      <th>0</th>\n",
       "      <td>0</td>\n",
       "      <td>1</td>\n",
       "      <td>85</td>\n",
       "      <td>66</td>\n",
       "      <td>29</td>\n",
       "      <td>0</td>\n",
       "      <td>26.6</td>\n",
       "      <td>0.351</td>\n",
       "      <td>31</td>\n",
       "    </tr>\n",
       "    <tr>\n",
       "      <th>1</th>\n",
       "      <td>1</td>\n",
       "      <td>8</td>\n",
       "      <td>183</td>\n",
       "      <td>64</td>\n",
       "      <td>0</td>\n",
       "      <td>0</td>\n",
       "      <td>23.3</td>\n",
       "      <td>0.672</td>\n",
       "      <td>32</td>\n",
       "    </tr>\n",
       "    <tr>\n",
       "      <th>2</th>\n",
       "      <td>0</td>\n",
       "      <td>1</td>\n",
       "      <td>89</td>\n",
       "      <td>66</td>\n",
       "      <td>23</td>\n",
       "      <td>94</td>\n",
       "      <td>28.1</td>\n",
       "      <td>0.167</td>\n",
       "      <td>21</td>\n",
       "    </tr>\n",
       "    <tr>\n",
       "      <th>3</th>\n",
       "      <td>1</td>\n",
       "      <td>0</td>\n",
       "      <td>137</td>\n",
       "      <td>40</td>\n",
       "      <td>35</td>\n",
       "      <td>168</td>\n",
       "      <td>43.1</td>\n",
       "      <td>2.288</td>\n",
       "      <td>33</td>\n",
       "    </tr>\n",
       "    <tr>\n",
       "      <th>4</th>\n",
       "      <td>0</td>\n",
       "      <td>5</td>\n",
       "      <td>116</td>\n",
       "      <td>74</td>\n",
       "      <td>0</td>\n",
       "      <td>0</td>\n",
       "      <td>25.6</td>\n",
       "      <td>0.201</td>\n",
       "      <td>30</td>\n",
       "    </tr>\n",
       "  </tbody>\n",
       "</table>\n",
       "</div>"
      ],
      "text/plain": [
       "   diabetes  times_pregnant  glucose_conc  diastolic_BP  triceps_thk  \\\n",
       "0         0               1            85            66           29   \n",
       "1         1               8           183            64            0   \n",
       "2         0               1            89            66           23   \n",
       "3         1               0           137            40           35   \n",
       "4         0               5           116            74            0   \n",
       "\n",
       "   2_hr_insulin   bmi  pedigree  age  \n",
       "0             0  26.6     0.351   31  \n",
       "1             0  23.3     0.672   32  \n",
       "2            94  28.1     0.167   21  \n",
       "3           168  43.1     2.288   33  \n",
       "4             0  25.6     0.201   30  "
      ]
     },
     "execution_count": 5,
     "metadata": {},
     "output_type": "execute_result"
    }
   ],
   "source": [
    "# create new DF eliminating any zero glucose levels, which are assumed to be erroneous entries\n",
    "df_gluc_con = df[df.glucose_conc > 0]\n",
    "df_gluc_con.head()"
   ]
  },
  {
   "cell_type": "markdown",
   "metadata": {},
   "source": [
    "##### Part - 2\n",
    "- Check if the value for 'glucose_conc' is less than 100.\n",
    "- Create a new column named 'prediction'.\n",
    "- If the glucose_conc level is less than 100 then your prediction for that row will be 0 otherwise 1.\n"
   ]
  },
  {
   "cell_type": "code",
   "execution_count": 6,
   "metadata": {},
   "outputs": [
    {
     "data": {
      "text/html": [
       "<div>\n",
       "<style scoped>\n",
       "    .dataframe tbody tr th:only-of-type {\n",
       "        vertical-align: middle;\n",
       "    }\n",
       "\n",
       "    .dataframe tbody tr th {\n",
       "        vertical-align: top;\n",
       "    }\n",
       "\n",
       "    .dataframe thead th {\n",
       "        text-align: right;\n",
       "    }\n",
       "</style>\n",
       "<table border=\"1\" class=\"dataframe\">\n",
       "  <thead>\n",
       "    <tr style=\"text-align: right;\">\n",
       "      <th></th>\n",
       "      <th>diabetes</th>\n",
       "      <th>times_pregnant</th>\n",
       "      <th>glucose_conc</th>\n",
       "      <th>diastolic_BP</th>\n",
       "      <th>triceps_thk</th>\n",
       "      <th>2_hr_insulin</th>\n",
       "      <th>bmi</th>\n",
       "      <th>pedigree</th>\n",
       "      <th>age</th>\n",
       "      <th>Prediction</th>\n",
       "    </tr>\n",
       "  </thead>\n",
       "  <tbody>\n",
       "    <tr>\n",
       "      <th>0</th>\n",
       "      <td>0</td>\n",
       "      <td>1</td>\n",
       "      <td>85</td>\n",
       "      <td>66</td>\n",
       "      <td>29</td>\n",
       "      <td>0</td>\n",
       "      <td>26.6</td>\n",
       "      <td>0.351</td>\n",
       "      <td>31</td>\n",
       "      <td>0</td>\n",
       "    </tr>\n",
       "    <tr>\n",
       "      <th>1</th>\n",
       "      <td>1</td>\n",
       "      <td>8</td>\n",
       "      <td>183</td>\n",
       "      <td>64</td>\n",
       "      <td>0</td>\n",
       "      <td>0</td>\n",
       "      <td>23.3</td>\n",
       "      <td>0.672</td>\n",
       "      <td>32</td>\n",
       "      <td>1</td>\n",
       "    </tr>\n",
       "    <tr>\n",
       "      <th>2</th>\n",
       "      <td>0</td>\n",
       "      <td>1</td>\n",
       "      <td>89</td>\n",
       "      <td>66</td>\n",
       "      <td>23</td>\n",
       "      <td>94</td>\n",
       "      <td>28.1</td>\n",
       "      <td>0.167</td>\n",
       "      <td>21</td>\n",
       "      <td>0</td>\n",
       "    </tr>\n",
       "    <tr>\n",
       "      <th>3</th>\n",
       "      <td>1</td>\n",
       "      <td>0</td>\n",
       "      <td>137</td>\n",
       "      <td>40</td>\n",
       "      <td>35</td>\n",
       "      <td>168</td>\n",
       "      <td>43.1</td>\n",
       "      <td>2.288</td>\n",
       "      <td>33</td>\n",
       "      <td>1</td>\n",
       "    </tr>\n",
       "    <tr>\n",
       "      <th>4</th>\n",
       "      <td>0</td>\n",
       "      <td>5</td>\n",
       "      <td>116</td>\n",
       "      <td>74</td>\n",
       "      <td>0</td>\n",
       "      <td>0</td>\n",
       "      <td>25.6</td>\n",
       "      <td>0.201</td>\n",
       "      <td>30</td>\n",
       "      <td>1</td>\n",
       "    </tr>\n",
       "  </tbody>\n",
       "</table>\n",
       "</div>"
      ],
      "text/plain": [
       "   diabetes  times_pregnant  glucose_conc  diastolic_BP  triceps_thk  \\\n",
       "0         0               1            85            66           29   \n",
       "1         1               8           183            64            0   \n",
       "2         0               1            89            66           23   \n",
       "3         1               0           137            40           35   \n",
       "4         0               5           116            74            0   \n",
       "\n",
       "   2_hr_insulin   bmi  pedigree  age  Prediction  \n",
       "0             0  26.6     0.351   31           0  \n",
       "1             0  23.3     0.672   32           1  \n",
       "2            94  28.1     0.167   21           0  \n",
       "3           168  43.1     2.288   33           1  \n",
       "4             0  25.6     0.201   30           1  "
      ]
     },
     "execution_count": 6,
     "metadata": {},
     "output_type": "execute_result"
    }
   ],
   "source": [
    "# generate a list of prediction values and assign to new column in dataframe and check \n",
    "df_gluc_con['Prediction'] = [0 if value < 100 else 1 for value in df_gluc_con['glucose_conc']]\n",
    "df_gluc_con.head()"
   ]
  },
  {
   "cell_type": "markdown",
   "metadata": {},
   "source": [
    "##### Part - 3\n",
    "Write the content of the 'Diabetes.csv' file along with 'prediction' values into a new file named 'Diabetes-with-predictions.csv'"
   ]
  },
  {
   "cell_type": "code",
   "execution_count": 7,
   "metadata": {},
   "outputs": [],
   "source": [
    "# save modified dataframe to CSV ingnoring the index values which are outputted as default\n",
    "df_gluc_con.to_csv('Diabetes-with-predictions.csv', index=False)"
   ]
  },
  {
   "cell_type": "markdown",
   "metadata": {},
   "source": [
    "### *BONUS* Challenge: Diabetes\n",
    "- From the above file, find the min and max age.\n",
    "- Create six intervals based on age (e.g. 11 to 20, 21 to 30 etc.) including both min and max age found earlier.\n",
    "- For each age interval compute the average 'glucose_conc'.\n",
    "- Write your computed data into a new file named 'average_glucose_by_age.csv'. This file should have two columns 'age_interval' and 'avg_glucose_conc'"
   ]
  },
  {
   "cell_type": "code",
   "execution_count": 8,
   "metadata": {},
   "outputs": [
    {
     "name": "stdout",
     "output_type": "stream",
     "text": [
      "The max age in the dataset is 81\n",
      "The min age in the dataset is 21\n"
     ]
    }
   ],
   "source": [
    "# determine the max/min ages in the dataset using the Pandas max/min methods and print out in nice format\n",
    "print('The max age in the dataset is {0}'.format(df.age.max()))\n",
    "print('The min age in the dataset is {0}'.format(df.age.min()))"
   ]
  },
  {
   "cell_type": "code",
   "execution_count": 9,
   "metadata": {},
   "outputs": [],
   "source": [
    "# create two lists with the low/high age values for the 6 brackets\n",
    "age_low = [21,31,41,51,61,71]\n",
    "age_hi = [30,40,50,60,70,81]"
   ]
  },
  {
   "cell_type": "code",
   "execution_count": 10,
   "metadata": {},
   "outputs": [
    {
     "data": {
      "text/plain": [
       "['21-30', '31-40', '41-50', '51-60', '61-70', '71-81']"
      ]
     },
     "execution_count": 10,
     "metadata": {},
     "output_type": "execute_result"
    }
   ],
   "source": [
    "# combine low/high bracket values in readable str format for CSV\n",
    "brackets = [str(age_low[x]) + \"-\" + str(age_hi[x]) for x in range(6)]\n",
    "brackets"
   ]
  },
  {
   "cell_type": "code",
   "execution_count": 11,
   "metadata": {},
   "outputs": [
    {
     "data": {
      "text/plain": [
       "[115.0, 126.99, 125.8, 141.15, 137.56, 126.5]"
      ]
     },
     "execution_count": 11,
     "metadata": {},
     "output_type": "execute_result"
    }
   ],
   "source": [
    "# initialise list\n",
    "avg_glucose = []\n",
    "\n",
    "#append to the list the avg glucose conc for each age bracket using the Pandas mean method and slicing the df for each bracket\n",
    "for i in range(6):\n",
    "    temp_df = df_gluc_con[(df_gluc_con['age'] >= age_low[i]) & (df_gluc_con['age'] <= age_hi[i])]\n",
    "    avg_glucose.append(round(temp_df['glucose_conc'].mean(),2))\n",
    "\n",
    "avg_glucose"
   ]
  },
  {
   "cell_type": "code",
   "execution_count": 12,
   "metadata": {},
   "outputs": [
    {
     "data": {
      "text/html": [
       "<div>\n",
       "<style scoped>\n",
       "    .dataframe tbody tr th:only-of-type {\n",
       "        vertical-align: middle;\n",
       "    }\n",
       "\n",
       "    .dataframe tbody tr th {\n",
       "        vertical-align: top;\n",
       "    }\n",
       "\n",
       "    .dataframe thead th {\n",
       "        text-align: right;\n",
       "    }\n",
       "</style>\n",
       "<table border=\"1\" class=\"dataframe\">\n",
       "  <thead>\n",
       "    <tr style=\"text-align: right;\">\n",
       "      <th></th>\n",
       "      <th>Age_Interval</th>\n",
       "      <th>Avg_Glucose_Conc</th>\n",
       "    </tr>\n",
       "  </thead>\n",
       "  <tbody>\n",
       "    <tr>\n",
       "      <th>0</th>\n",
       "      <td>21-30</td>\n",
       "      <td>115.00</td>\n",
       "    </tr>\n",
       "    <tr>\n",
       "      <th>1</th>\n",
       "      <td>31-40</td>\n",
       "      <td>126.99</td>\n",
       "    </tr>\n",
       "    <tr>\n",
       "      <th>2</th>\n",
       "      <td>41-50</td>\n",
       "      <td>125.80</td>\n",
       "    </tr>\n",
       "    <tr>\n",
       "      <th>3</th>\n",
       "      <td>51-60</td>\n",
       "      <td>141.15</td>\n",
       "    </tr>\n",
       "    <tr>\n",
       "      <th>4</th>\n",
       "      <td>61-70</td>\n",
       "      <td>137.56</td>\n",
       "    </tr>\n",
       "    <tr>\n",
       "      <th>5</th>\n",
       "      <td>71-81</td>\n",
       "      <td>126.50</td>\n",
       "    </tr>\n",
       "  </tbody>\n",
       "</table>\n",
       "</div>"
      ],
      "text/plain": [
       "  Age_Interval  Avg_Glucose_Conc\n",
       "0        21-30            115.00\n",
       "1        31-40            126.99\n",
       "2        41-50            125.80\n",
       "3        51-60            141.15\n",
       "4        61-70            137.56\n",
       "5        71-81            126.50"
      ]
     },
     "execution_count": 12,
     "metadata": {},
     "output_type": "execute_result"
    }
   ],
   "source": [
    "# create new DF with the age brackets and avgs\n",
    "new_df = pd.DataFrame(dict(Age_Interval = brackets, Avg_Glucose_Conc = avg_glucose))\n",
    "new_df"
   ]
  },
  {
   "cell_type": "code",
   "execution_count": 13,
   "metadata": {},
   "outputs": [],
   "source": [
    "# save modified dataframe to CSV, ingnoring the index values which are outputted as default\n",
    "new_df.to_csv('average_glucose_by_age.csv', index=False)"
   ]
  }
 ],
 "metadata": {
  "anaconda-cloud": {},
  "kernelspec": {
   "display_name": "Python 3",
   "language": "python",
   "name": "python3"
  },
  "language_info": {
   "codemirror_mode": {
    "name": "ipython",
    "version": 3
   },
   "file_extension": ".py",
   "mimetype": "text/x-python",
   "name": "python",
   "nbconvert_exporter": "python",
   "pygments_lexer": "ipython3",
   "version": "3.8.5"
  },
  "varInspector": {
   "cols": {
    "lenName": 16,
    "lenType": 16,
    "lenVar": 40
   },
   "kernels_config": {
    "python": {
     "delete_cmd_postfix": "",
     "delete_cmd_prefix": "del ",
     "library": "var_list.py",
     "varRefreshCmd": "print(var_dic_list())"
    },
    "r": {
     "delete_cmd_postfix": ") ",
     "delete_cmd_prefix": "rm(",
     "library": "var_list.r",
     "varRefreshCmd": "cat(var_dic_list()) "
    }
   },
   "types_to_exclude": [
    "module",
    "function",
    "builtin_function_or_method",
    "instance",
    "_Feature"
   ],
   "window_display": false
  }
 },
 "nbformat": 4,
 "nbformat_minor": 2
}
